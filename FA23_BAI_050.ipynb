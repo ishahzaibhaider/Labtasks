{
  "nbformat": 4,
  "nbformat_minor": 0,
  "metadata": {
    "colab": {
      "provenance": []
    },
    "kernelspec": {
      "name": "python3",
      "display_name": "Python 3"
    },
    "language_info": {
      "name": "python"
    }
  },
  "cells": [
    {
      "cell_type": "markdown",
      "source": [
        "# **Task 1: Find-S Algorithm**"
      ],
      "metadata": {
        "id": "OKojbeQv_t0R"
      }
    },
    {
      "cell_type": "code",
      "execution_count": 4,
      "metadata": {
        "colab": {
          "base_uri": "https://localhost:8080/"
        },
        "id": "BU4gu3Yr_YjO",
        "outputId": "0b1a993a-258c-49c6-f758-997492c013d0"
      },
      "outputs": [
        {
          "output_type": "stream",
          "name": "stdout",
          "text": [
            "\n",
            "Running Find-S Algorithm...\n",
            "Initial Hypothesis: ['Ø', 'Ø', 'Ø', 'Ø', 'Ø', 'Ø']\n",
            "After positive example 1: ['Sunny', 'Warm', 'Normal', 'Strong', 'Warm', 'Same']\n",
            "After positive example 2: ['Sunny', 'Warm', '?', 'Strong', 'Warm', 'Same']\n",
            "After positive example 4: ['Sunny', 'Warm', '?', 'Strong', '?', '?']\n",
            "\n",
            "Final Hypothesis: ['Sunny', 'Warm', '?', 'Strong', '?', '?']\n"
          ]
        }
      ],
      "source": [
        "import pandas as pd\n",
        "\n",
        "# Dataset\n",
        "data = pd.DataFrame([\n",
        "    [\"Sunny\",\"Warm\",\"Normal\",\"Strong\",\"Warm\",\"Same\",\"Yes\"],\n",
        "    [\"Sunny\",\"Warm\",\"High\",\"Strong\",\"Warm\",\"Same\",\"Yes\"],\n",
        "    [\"Rainy\",\"Cold\",\"High\",\"Strong\",\"Warm\",\"Change\",\"No\"],\n",
        "    [\"Sunny\",\"Warm\",\"High\",\"Strong\",\"Cool\",\"Change\",\"Yes\"]\n",
        "], columns=[\"Sky\",\"AirTemp\",\"Humidity\",\"Wind\",\"Water\",\"Forecast\",\"EnjoySport\"])\n",
        "\n",
        "attributes = [\"Sky\",\"AirTemp\",\"Humidity\",\"Wind\",\"Water\",\"Forecast\"]\n",
        "target = \"EnjoySport\"\n",
        "\n",
        "# Find-S Algorithm\n",
        "def find_s_algorithm(df, attributes, target):\n",
        "    hypothesis = ['Ø'] * len(attributes)\n",
        "    print(\"Initial Hypothesis:\", hypothesis)\n",
        "\n",
        "    for index, row in df.iterrows():\n",
        "        if row[target] == 'Yes':\n",
        "            for i, attr in enumerate(attributes):\n",
        "                if hypothesis[i] == 'Ø':\n",
        "                    hypothesis[i] = row[attr]\n",
        "                elif hypothesis[i] != row[attr]:\n",
        "                    hypothesis[i] = '?'\n",
        "            print(f\"After positive example {index+1}: {hypothesis}\")\n",
        "\n",
        "    return hypothesis\n",
        "\n",
        "print(\"\\nRunning Find-S Algorithm...\")\n",
        "final_hypothesis = find_s_algorithm(data, attributes, target)\n",
        "print(\"\\nFinal Hypothesis:\", final_hypothesis)\n"
      ]
    },
    {
      "cell_type": "markdown",
      "source": [
        "# **Task 2: Candidate Elimination Algorithm**"
      ],
      "metadata": {
        "id": "yikt0_Qd_wuY"
      }
    },
    {
      "cell_type": "code",
      "source": [
        "def candidate_elimination(df, attributes, target):\n",
        "    # Initialize S and G\n",
        "    S = [['Ø'] * len(attributes)]\n",
        "    G = [['?'] * len(attributes)]\n",
        "\n",
        "    def is_more_general(h1, h2):\n",
        "        more_general = False\n",
        "        for x, y in zip(h1, h2):\n",
        "            if x == '?':\n",
        "                if y != '?':\n",
        "                    more_general = True\n",
        "            elif x != y and y != 'Ø':\n",
        "                return False\n",
        "        return more_general\n",
        "\n",
        "    print(\"\\nInitial S:\", S)\n",
        "    print(\"Initial G:\", G)\n",
        "\n",
        "    for index, row in df.iterrows():\n",
        "        example = row[attributes].values\n",
        "        if row[target] == 'Yes':\n",
        "            G = [g for g in G if all(g[i] == '?' or g[i] == example[i] for i in range(len(attributes)))]\n",
        "            for s in S:\n",
        "                for i in range(len(attributes)):\n",
        "                    if s[i] == 'Ø':\n",
        "                        s[i] = example[i]\n",
        "                    elif s[i] != example[i]:\n",
        "                        s[i] = '?'\n",
        "        else:\n",
        "            S = [s for s in S if not all(s[i] == '?' or s[i] == example[i] for i in range(len(attributes)))]\n",
        "            new_G = []\n",
        "            for g in G:\n",
        "                if all(g[i] == '?' or g[i] == example[i] for i in range(len(attributes))):\n",
        "                    for i in range(len(attributes)):\n",
        "                        if g[i] == '?':\n",
        "                            for val in df[attributes[i]].unique():\n",
        "                                if val != example[i]:\n",
        "                                    new_hypothesis = g.copy()\n",
        "                                    new_hypothesis[i] = val\n",
        "                                    new_G.append(new_hypothesis)\n",
        "                else:\n",
        "                    new_G.append(g)\n",
        "            G = new_G\n",
        "\n",
        "        print(f\"\\nAfter example {index+1} ({row[target]}):\")\n",
        "        print(\"S:\", S)\n",
        "        print(\"G:\", G)\n",
        "\n",
        "    return S, G\n",
        "\n",
        "print(\"\\nRunning Candidate Elimination Algorithm...\")\n",
        "S_final, G_final = candidate_elimination(data, attributes, target)\n",
        "print(\"\\nFinal S:\", S_final)\n",
        "print(\"Final G:\", G_final)\n"
      ],
      "metadata": {
        "colab": {
          "base_uri": "https://localhost:8080/"
        },
        "id": "X5ns7oLz_dHo",
        "outputId": "3fffe833-ed05-436a-d418-45291c458959"
      },
      "execution_count": 5,
      "outputs": [
        {
          "output_type": "stream",
          "name": "stdout",
          "text": [
            "\n",
            "Running Candidate Elimination Algorithm...\n",
            "\n",
            "Initial S: [['Ø', 'Ø', 'Ø', 'Ø', 'Ø', 'Ø']]\n",
            "Initial G: [['?', '?', '?', '?', '?', '?']]\n",
            "\n",
            "After example 1 (Yes):\n",
            "S: [['Sunny', 'Warm', 'Normal', 'Strong', 'Warm', 'Same']]\n",
            "G: [['?', '?', '?', '?', '?', '?']]\n",
            "\n",
            "After example 2 (Yes):\n",
            "S: [['Sunny', 'Warm', '?', 'Strong', 'Warm', 'Same']]\n",
            "G: [['?', '?', '?', '?', '?', '?']]\n",
            "\n",
            "After example 3 (No):\n",
            "S: [['Sunny', 'Warm', '?', 'Strong', 'Warm', 'Same']]\n",
            "G: [['Sunny', '?', '?', '?', '?', '?'], ['?', 'Warm', '?', '?', '?', '?'], ['?', '?', 'Normal', '?', '?', '?'], ['?', '?', '?', '?', 'Cool', '?'], ['?', '?', '?', '?', '?', 'Same']]\n",
            "\n",
            "After example 4 (Yes):\n",
            "S: [['Sunny', 'Warm', '?', 'Strong', '?', '?']]\n",
            "G: [['Sunny', '?', '?', '?', '?', '?'], ['?', 'Warm', '?', '?', '?', '?'], ['?', '?', '?', '?', 'Cool', '?']]\n",
            "\n",
            "Final S: [['Sunny', 'Warm', '?', 'Strong', '?', '?']]\n",
            "Final G: [['Sunny', '?', '?', '?', '?', '?'], ['?', 'Warm', '?', '?', '?', '?'], ['?', '?', '?', '?', 'Cool', '?']]\n"
          ]
        }
      ]
    },
    {
      "cell_type": "markdown",
      "source": [
        "# **Task 3: Test with New Dataset & Noise**"
      ],
      "metadata": {
        "id": "UGcZmdCe_0Pg"
      }
    },
    {
      "cell_type": "code",
      "source": [
        "# New dataset with noise\n",
        "new_data = pd.DataFrame([\n",
        "    [\"Sunny\",\"Warm\",\"Normal\",\"Strong\",\"Warm\",\"Same\",\"Yes\"],\n",
        "    [\"Sunny\",\"Warm\",\"High\",\"Strong\",\"Warm\",\"Same\",\"Yes\"],\n",
        "    [\"Rainy\",\"Cold\",\"High\",\"Strong\",\"Warm\",\"Change\",\"No\"],\n",
        "    [\"Sunny\",\"Warm\",\"High\",\"Strong\",\"Cool\",\"Change\",\"Yes\"],\n",
        "    [\"Sunny\",\"Cold\",\"Normal\",\"Weak\",\"Cool\",\"Same\",\"No\"],\n",
        "    [\"Rainy\",\"Warm\",\"High\",\"Strong\",\"Cool\",\"Same\",\"Yes\"],  # noisy/contradictory\n",
        "], columns=[\"Sky\",\"AirTemp\",\"Humidity\",\"Wind\",\"Water\",\"Forecast\",\"EnjoySport\"])\n",
        "\n",
        "print(\"\\nRunning Find-S on New Dataset...\")\n",
        "find_s_result = find_s_algorithm(new_data, attributes, target)\n",
        "\n",
        "print(\"\\nRunning Candidate Elimination on New Dataset...\")\n",
        "S_noise, G_noise = candidate_elimination(new_data, attributes, target)\n",
        "\n",
        "print(\"\\nFinal S with Noise:\", S_noise)\n",
        "print(\"Final G with Noise:\", G_noise)\n"
      ],
      "metadata": {
        "colab": {
          "base_uri": "https://localhost:8080/"
        },
        "id": "FAJEtTfp_fK4",
        "outputId": "570ea740-69a8-4dd6-a2e9-6adb9866e4e1"
      },
      "execution_count": 6,
      "outputs": [
        {
          "output_type": "stream",
          "name": "stdout",
          "text": [
            "\n",
            "Running Find-S on New Dataset...\n",
            "Initial Hypothesis: ['Ø', 'Ø', 'Ø', 'Ø', 'Ø', 'Ø']\n",
            "After positive example 1: ['Sunny', 'Warm', 'Normal', 'Strong', 'Warm', 'Same']\n",
            "After positive example 2: ['Sunny', 'Warm', '?', 'Strong', 'Warm', 'Same']\n",
            "After positive example 4: ['Sunny', 'Warm', '?', 'Strong', '?', '?']\n",
            "After positive example 6: ['?', 'Warm', '?', 'Strong', '?', '?']\n",
            "\n",
            "Running Candidate Elimination on New Dataset...\n",
            "\n",
            "Initial S: [['Ø', 'Ø', 'Ø', 'Ø', 'Ø', 'Ø']]\n",
            "Initial G: [['?', '?', '?', '?', '?', '?']]\n",
            "\n",
            "After example 1 (Yes):\n",
            "S: [['Sunny', 'Warm', 'Normal', 'Strong', 'Warm', 'Same']]\n",
            "G: [['?', '?', '?', '?', '?', '?']]\n",
            "\n",
            "After example 2 (Yes):\n",
            "S: [['Sunny', 'Warm', '?', 'Strong', 'Warm', 'Same']]\n",
            "G: [['?', '?', '?', '?', '?', '?']]\n",
            "\n",
            "After example 3 (No):\n",
            "S: [['Sunny', 'Warm', '?', 'Strong', 'Warm', 'Same']]\n",
            "G: [['Sunny', '?', '?', '?', '?', '?'], ['?', 'Warm', '?', '?', '?', '?'], ['?', '?', 'Normal', '?', '?', '?'], ['?', '?', '?', 'Weak', '?', '?'], ['?', '?', '?', '?', 'Cool', '?'], ['?', '?', '?', '?', '?', 'Same']]\n",
            "\n",
            "After example 4 (Yes):\n",
            "S: [['Sunny', 'Warm', '?', 'Strong', '?', '?']]\n",
            "G: [['Sunny', '?', '?', '?', '?', '?'], ['?', 'Warm', '?', '?', '?', '?'], ['?', '?', '?', '?', 'Cool', '?']]\n",
            "\n",
            "After example 5 (No):\n",
            "S: [['Sunny', 'Warm', '?', 'Strong', '?', '?']]\n",
            "G: [['Sunny', 'Warm', '?', '?', '?', '?'], ['Sunny', '?', 'High', '?', '?', '?'], ['Sunny', '?', '?', 'Strong', '?', '?'], ['Sunny', '?', '?', '?', 'Warm', '?'], ['Sunny', '?', '?', '?', '?', 'Change'], ['?', 'Warm', '?', '?', '?', '?'], ['Rainy', '?', '?', '?', 'Cool', '?'], ['?', 'Warm', '?', '?', 'Cool', '?'], ['?', '?', 'High', '?', 'Cool', '?'], ['?', '?', '?', 'Strong', 'Cool', '?'], ['?', '?', '?', '?', 'Cool', 'Change']]\n",
            "\n",
            "After example 6 (Yes):\n",
            "S: [['?', 'Warm', '?', 'Strong', '?', '?']]\n",
            "G: [['?', 'Warm', '?', '?', '?', '?'], ['Rainy', '?', '?', '?', 'Cool', '?'], ['?', 'Warm', '?', '?', 'Cool', '?'], ['?', '?', 'High', '?', 'Cool', '?'], ['?', '?', '?', 'Strong', 'Cool', '?']]\n",
            "\n",
            "Final S with Noise: [['?', 'Warm', '?', 'Strong', '?', '?']]\n",
            "Final G with Noise: [['?', 'Warm', '?', '?', '?', '?'], ['Rainy', '?', '?', '?', 'Cool', '?'], ['?', 'Warm', '?', '?', 'Cool', '?'], ['?', '?', 'High', '?', 'Cool', '?'], ['?', '?', '?', 'Strong', 'Cool', '?']]\n"
          ]
        }
      ]
    }
  ]
}